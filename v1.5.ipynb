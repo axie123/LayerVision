{
 "cells": [
  {
   "cell_type": "code",
   "execution_count": 1,
   "metadata": {},
   "outputs": [],
   "source": [
    "import numpy as np\n",
    "import torch\n",
    "import torchvision as tvn\n",
    "import matplotlib.pyplot as plt\n",
    "import sklearn.metrics as skm\n",
    "import sys"
   ]
  },
  {
   "cell_type": "code",
   "execution_count": 2,
   "metadata": {},
   "outputs": [],
   "source": [
    "nn_params = {'nodes_layer_0': 1024,        \n",
    "             'nodes_layer_1': 512,  \n",
    "             'nodes_layer_2': 256,\n",
    "             'nodes_layer_3': 128\n",
    "             }\n",
    "\n",
    "prop_params = {'ReLU_1': 0.2,               \n",
    "               'ReLU_2': 0.2,\n",
    "               'ReLU_3': 0.2,\n",
    "               'ReLU_4': 0.2,\n",
    "               'Drop_1': 0.25,\n",
    "               'Drop_2': 0.25,\n",
    "               'Drop_3': 0.25,\n",
    "               'Drop_4': 0.25\n",
    "               }\n",
    "\n",
    "training_conditions = {'n_epochs': 1,                  \n",
    "                       'batch_size_train': 64,\n",
    "                       'batch_size_test': 1000,\n",
    "                       'learning_rate': 0.01,\n",
    "                       'momentum': 0.05,\n",
    "                       'log_interval': 10,\n",
    "                       'rdm_seed': 1\n",
    "                       }"
   ]
  },
  {
   "cell_type": "code",
   "execution_count": 3,
   "metadata": {},
   "outputs": [
    {
     "data": {
      "text/plain": [
       "<torch._C.Generator at 0x230c5facbd0>"
      ]
     },
     "execution_count": 3,
     "metadata": {},
     "output_type": "execute_result"
    }
   ],
   "source": [
    "torch.manual_seed(training_conditions['rdm_seed'])"
   ]
  },
  {
   "cell_type": "code",
   "execution_count": 4,
   "metadata": {},
   "outputs": [],
   "source": [
    "train_loader = torch.utils.data.DataLoader(tvn.datasets.MNIST('/files/', train = True, download = True,\n",
    "                                                            transform = tvn.transforms.Compose([tvn.transforms.ToTensor(),\n",
    "                                                            tvn.transforms.Normalize((0.1307,), (0.3081,))])),batch_size=training_conditions['batch_size_train'], shuffle=True)\n",
    "\n",
    "test_loader = torch.utils.data.DataLoader(tvn.datasets.MNIST('/files/', train = False, download = True,\n",
    "                                                            transform = tvn.transforms.Compose([tvn.transforms.ToTensor(),\n",
    "                                                            tvn.transforms.Normalize((0.1307,), (0.3081,))])),batch_size=training_conditions['batch_size_test'], shuffle=True)"
   ]
  },
  {
   "cell_type": "code",
   "execution_count": 5,
   "metadata": {},
   "outputs": [],
   "source": [
    "class NN(torch.nn.Module):\n",
    "    def __init__(self,nn_params, prop_params):\n",
    "        super(NN, self).__init__()\n",
    "        initial_features = 784\n",
    "        final_features = 10\n",
    "        self.hidden_layerin = torch.nn.Sequential(torch.nn.Linear(initial_features,nn_params['nodes_layer_0']),torch.nn.LeakyReLU(prop_params['ReLU_1']),torch.nn.Dropout(prop_params['Drop_1']))\n",
    "        self.hidden_layer1 = torch.nn.Sequential(torch.nn.Linear(nn_params['nodes_layer_0'],nn_params['nodes_layer_1']),torch.nn.LeakyReLU(prop_params['ReLU_2']),torch.nn.Dropout(prop_params['Drop_2']))\n",
    "        self.hidden_layer2 = torch.nn.Sequential(torch.nn.Linear(nn_params['nodes_layer_1'],nn_params['nodes_layer_2']),torch.nn.LeakyReLU(prop_params['ReLU_3']),torch.nn.Dropout(prop_params['Drop_3']))\n",
    "        self.hidden_layer3 = torch.nn.Sequential(torch.nn.Linear(nn_params['nodes_layer_2'],nn_params['nodes_layer_3']),torch.nn.LeakyReLU(prop_params['ReLU_4']),torch.nn.Dropout(prop_params['Drop_4']))\n",
    "        self.layer_out = torch.nn.Linear(nn_params['nodes_layer_3'],final_features)\n",
    "\n",
    "    def forward(self, x):\n",
    "        x = x.view(-1,784)\n",
    "        x_in = self.hidden_layerin(x)\n",
    "        x_1 = self.hidden_layer1(x_in)\n",
    "        x_2 = self.hidden_layer2(x_1)\n",
    "        x_3 = self.hidden_layer3(x_2)\n",
    "        x_4 = self.layer_out(x_3)\n",
    "        x_out = torch.nn.functional.log_softmax(x_4,dim=1)\n",
    "        return [x_out,x_in,x_1,x_2,x_3]\n",
    "\n",
    "network = NN(nn_params, prop_params)"
   ]
  },
  {
   "cell_type": "code",
   "execution_count": 6,
   "metadata": {},
   "outputs": [],
   "source": [
    "optimizer = torch.optim.SGD(network.parameters(), lr= training_conditions['learning_rate'],momentum= training_conditions['momentum'])\n",
    "loss_function = torch.nn.functional.nll_loss\n",
    "\n",
    "def train(network,train_set,loss_func,method,log_interval,epochs):\n",
    "    try:\n",
    "        network.train()\n",
    "        for index, (data, truth) in enumerate(train_set):\n",
    "            method.zero_grad()\n",
    "            output = network(data) \n",
    "            loss = loss_func(output[0], truth)\n",
    "            loss.backward()\n",
    "            method.step()\n",
    "            if index % log_interval == 0:\n",
    "                print('Train Epoch: {} [{}/{} ({:.0f}%)]\\tLoss: {:.6f}'.format(epochs, index * len(data), len(train_set.dataset),\n",
    "                                                                    100. * index / len(train_set), loss.item()))\n",
    "        return [output,truth]\n",
    "    except:\n",
    "        print('Error occurred during training. Please check errors: ', sys.exc_info()[2])\n",
    "\n",
    "\n",
    "def test(network,test_set,loss_func):\n",
    "    try:\n",
    "        test_losses = []\n",
    "        network.eval()\n",
    "        total_test_loss = 0\n",
    "        total_correct = 0\n",
    "        with torch.no_grad():\n",
    "            for index, (data, truth) in enumerate(test_set):\n",
    "                output = network(data)\n",
    "                test_loss = loss_func(output[0], truth, size_average = False)\n",
    "                total_test_loss += test_loss.item()\n",
    "                pred = output[0].data.max(1, keepdim = True)[1]\n",
    "                total_correct += pred.eq(truth.data.view_as(pred)).sum()\n",
    "        avg_test_loss = total_test_loss / len(test_set.dataset)\n",
    "        test_losses.append(test_loss)\n",
    "        print('\\nTest set: Avg. loss: {:.4f}, Accuracy: {}/{} ({:.0f}%)\\n'.format(avg_test_loss, total_correct, len(test_set.dataset),\n",
    "            100. * total_correct / len(test_set.dataset)))\n",
    "        return [output, truth]\n",
    "    except:\n",
    "        print('Error occurred during testing. Please check error: ', sys.exc_info()[2])"
   ]
  },
  {
   "cell_type": "code",
   "execution_count": 7,
   "metadata": {},
   "outputs": [
    {
     "name": "stderr",
     "output_type": "stream",
     "text": [
      "C:\\Users\\Andy Xie\\Anaconda3\\envs\\api-dev\\lib\\site-packages\\torch\\nn\\_reduction.py:46: UserWarning: size_average and reduce args will be deprecated, please use reduction='sum' instead.\n",
      "  warnings.warn(warning.format(ret))\n"
     ]
    },
    {
     "name": "stdout",
     "output_type": "stream",
     "text": [
      "\n",
      "Test set: Avg. loss: 2.3011, Accuracy: 1095/10000 (10%)\n",
      "\n",
      "Train Epoch: 1 [0/60000 (0%)]\tLoss: 2.294295\n",
      "Train Epoch: 1 [640/60000 (1%)]\tLoss: 2.301305\n",
      "Train Epoch: 1 [1280/60000 (2%)]\tLoss: 2.297035\n",
      "Train Epoch: 1 [1920/60000 (3%)]\tLoss: 2.297702\n",
      "Train Epoch: 1 [2560/60000 (4%)]\tLoss: 2.290997\n",
      "Train Epoch: 1 [3200/60000 (5%)]\tLoss: 2.290269\n",
      "Train Epoch: 1 [3840/60000 (6%)]\tLoss: 2.292796\n",
      "Train Epoch: 1 [4480/60000 (7%)]\tLoss: 2.308970\n",
      "Train Epoch: 1 [5120/60000 (9%)]\tLoss: 2.294259\n",
      "Train Epoch: 1 [5760/60000 (10%)]\tLoss: 2.270344\n",
      "Train Epoch: 1 [6400/60000 (11%)]\tLoss: 2.271259\n",
      "Train Epoch: 1 [7040/60000 (12%)]\tLoss: 2.279764\n",
      "Train Epoch: 1 [7680/60000 (13%)]\tLoss: 2.281452\n",
      "Train Epoch: 1 [8320/60000 (14%)]\tLoss: 2.277405\n",
      "Train Epoch: 1 [8960/60000 (15%)]\tLoss: 2.278854\n",
      "Train Epoch: 1 [9600/60000 (16%)]\tLoss: 2.269268\n",
      "Train Epoch: 1 [10240/60000 (17%)]\tLoss: 2.277972\n",
      "Train Epoch: 1 [10880/60000 (18%)]\tLoss: 2.280428\n",
      "Train Epoch: 1 [11520/60000 (19%)]\tLoss: 2.268578\n",
      "Train Epoch: 1 [12160/60000 (20%)]\tLoss: 2.268985\n",
      "Train Epoch: 1 [12800/60000 (21%)]\tLoss: 2.251978\n",
      "Train Epoch: 1 [13440/60000 (22%)]\tLoss: 2.253022\n",
      "Train Epoch: 1 [14080/60000 (23%)]\tLoss: 2.258549\n",
      "Train Epoch: 1 [14720/60000 (25%)]\tLoss: 2.240758\n",
      "Train Epoch: 1 [15360/60000 (26%)]\tLoss: 2.237310\n",
      "Train Epoch: 1 [16000/60000 (27%)]\tLoss: 2.237474\n",
      "Train Epoch: 1 [16640/60000 (28%)]\tLoss: 2.241807\n",
      "Train Epoch: 1 [17280/60000 (29%)]\tLoss: 2.215782\n",
      "Train Epoch: 1 [17920/60000 (30%)]\tLoss: 2.225364\n",
      "Train Epoch: 1 [18560/60000 (31%)]\tLoss: 2.192402\n",
      "Train Epoch: 1 [19200/60000 (32%)]\tLoss: 2.190834\n",
      "Train Epoch: 1 [19840/60000 (33%)]\tLoss: 2.209949\n",
      "Train Epoch: 1 [20480/60000 (34%)]\tLoss: 2.161926\n",
      "Train Epoch: 1 [21120/60000 (35%)]\tLoss: 2.176045\n",
      "Train Epoch: 1 [21760/60000 (36%)]\tLoss: 2.149569\n",
      "Train Epoch: 1 [22400/60000 (37%)]\tLoss: 2.125822\n",
      "Train Epoch: 1 [23040/60000 (38%)]\tLoss: 2.136168\n",
      "Train Epoch: 1 [23680/60000 (39%)]\tLoss: 2.119009\n",
      "Train Epoch: 1 [24320/60000 (41%)]\tLoss: 2.064044\n",
      "Train Epoch: 1 [24960/60000 (42%)]\tLoss: 2.071490\n",
      "Train Epoch: 1 [25600/60000 (43%)]\tLoss: 2.065675\n",
      "Train Epoch: 1 [26240/60000 (44%)]\tLoss: 2.052538\n",
      "Train Epoch: 1 [26880/60000 (45%)]\tLoss: 1.929598\n",
      "Train Epoch: 1 [27520/60000 (46%)]\tLoss: 1.985813\n",
      "Train Epoch: 1 [28160/60000 (47%)]\tLoss: 1.913090\n",
      "Train Epoch: 1 [28800/60000 (48%)]\tLoss: 1.919617\n",
      "Train Epoch: 1 [29440/60000 (49%)]\tLoss: 1.745286\n",
      "Train Epoch: 1 [30080/60000 (50%)]\tLoss: 1.818349\n",
      "Train Epoch: 1 [30720/60000 (51%)]\tLoss: 1.769043\n",
      "Train Epoch: 1 [31360/60000 (52%)]\tLoss: 1.548797\n",
      "Train Epoch: 1 [32000/60000 (53%)]\tLoss: 1.572551\n",
      "Train Epoch: 1 [32640/60000 (54%)]\tLoss: 1.506849\n",
      "Train Epoch: 1 [33280/60000 (55%)]\tLoss: 1.499697\n",
      "Train Epoch: 1 [33920/60000 (57%)]\tLoss: 1.209310\n",
      "Train Epoch: 1 [34560/60000 (58%)]\tLoss: 1.323237\n",
      "Train Epoch: 1 [35200/60000 (59%)]\tLoss: 1.486742\n",
      "Train Epoch: 1 [35840/60000 (60%)]\tLoss: 1.348274\n",
      "Train Epoch: 1 [36480/60000 (61%)]\tLoss: 1.121129\n",
      "Train Epoch: 1 [37120/60000 (62%)]\tLoss: 1.138653\n",
      "Train Epoch: 1 [37760/60000 (63%)]\tLoss: 1.176858\n",
      "Train Epoch: 1 [38400/60000 (64%)]\tLoss: 1.030933\n",
      "Train Epoch: 1 [39040/60000 (65%)]\tLoss: 1.046401\n",
      "Train Epoch: 1 [39680/60000 (66%)]\tLoss: 0.927151\n",
      "Train Epoch: 1 [40320/60000 (67%)]\tLoss: 1.033747\n",
      "Train Epoch: 1 [40960/60000 (68%)]\tLoss: 1.023222\n",
      "Train Epoch: 1 [41600/60000 (69%)]\tLoss: 0.909902\n",
      "Train Epoch: 1 [42240/60000 (70%)]\tLoss: 1.061411\n",
      "Train Epoch: 1 [42880/60000 (71%)]\tLoss: 0.987432\n",
      "Train Epoch: 1 [43520/60000 (72%)]\tLoss: 0.982405\n",
      "Train Epoch: 1 [44160/60000 (74%)]\tLoss: 0.858212\n",
      "Train Epoch: 1 [44800/60000 (75%)]\tLoss: 0.797097\n",
      "Train Epoch: 1 [45440/60000 (76%)]\tLoss: 0.919493\n",
      "Train Epoch: 1 [46080/60000 (77%)]\tLoss: 0.860956\n",
      "Train Epoch: 1 [46720/60000 (78%)]\tLoss: 0.810844\n",
      "Train Epoch: 1 [47360/60000 (79%)]\tLoss: 0.859947\n",
      "Train Epoch: 1 [48000/60000 (80%)]\tLoss: 0.721122\n",
      "Train Epoch: 1 [48640/60000 (81%)]\tLoss: 1.037444\n",
      "Train Epoch: 1 [49280/60000 (82%)]\tLoss: 0.627919\n",
      "Train Epoch: 1 [49920/60000 (83%)]\tLoss: 0.594458\n",
      "Train Epoch: 1 [50560/60000 (84%)]\tLoss: 0.747946\n",
      "Train Epoch: 1 [51200/60000 (85%)]\tLoss: 0.866728\n",
      "Train Epoch: 1 [51840/60000 (86%)]\tLoss: 0.614801\n",
      "Train Epoch: 1 [52480/60000 (87%)]\tLoss: 0.737064\n",
      "Train Epoch: 1 [53120/60000 (88%)]\tLoss: 0.853031\n",
      "Train Epoch: 1 [53760/60000 (90%)]\tLoss: 0.583857\n",
      "Train Epoch: 1 [54400/60000 (91%)]\tLoss: 0.766320\n",
      "Train Epoch: 1 [55040/60000 (92%)]\tLoss: 0.811464\n",
      "Train Epoch: 1 [55680/60000 (93%)]\tLoss: 0.673823\n",
      "Train Epoch: 1 [56320/60000 (94%)]\tLoss: 0.822294\n",
      "Train Epoch: 1 [56960/60000 (95%)]\tLoss: 0.655250\n",
      "Train Epoch: 1 [57600/60000 (96%)]\tLoss: 0.728312\n",
      "Train Epoch: 1 [58240/60000 (97%)]\tLoss: 0.528939\n",
      "Train Epoch: 1 [58880/60000 (98%)]\tLoss: 0.684269\n",
      "Train Epoch: 1 [59520/60000 (99%)]\tLoss: 0.496996\n",
      "\n",
      "Test set: Avg. loss: 0.5129, Accuracy: 8555/10000 (85%)\n",
      "\n"
     ]
    }
   ],
   "source": [
    "train_losses = []\n",
    "train_counter = []\n",
    "test_losses = []\n",
    "test_counter = [i*len(train_loader.dataset) for i in range(training_conditions['n_epochs'] + 1)]\n",
    "\n",
    "test(network,test_loader,loss_function)\n",
    "for epoch in range(1, training_conditions['n_epochs'] + 1): \n",
    "    training_data_results = train(network,train_loader,loss_function,optimizer,training_conditions['log_interval'],1)\n",
    "    testing_data_results = test(network,test_loader,loss_function)"
   ]
  },
  {
   "cell_type": "code",
   "execution_count": 33,
   "metadata": {},
   "outputs": [],
   "source": [
    "def layer_visuals(layer_num,data_results,ith):\n",
    "    chosen_layer = data_results[0][layer_num]\n",
    "    while True:\n",
    "        print('The dimensions of the layer: ' + str(chosen_layer.shape))\n",
    "        base = input('Base: ')\n",
    "        if base == 'exit':\n",
    "            break\n",
    "        height = input('Height: ')\n",
    "        try:\n",
    "            fig = plt.figure(figsize=(int(base),int(height)))\n",
    "            for i in range(ith,ith+10):\n",
    "                image = chosen_layer[i].view(int(height),int(base))\n",
    "                for j in range(10):\n",
    "                    plt.subplot(4,5,j + 1)\n",
    "                    plt.tight_layout()\n",
    "                    plt.title(j + ith, fontsize = 25)\n",
    "                    plt.imshow(image.detach(), cmap = 'gray', interpolation = 'none')\n",
    "                    plt.xticks([])\n",
    "                    plt.yticks([])\n",
    "            plt.show()\n",
    "            break\n",
    "        except (RuntimeError):\n",
    "            print('The proposed dimensions do not match that of the output.\\n')\n",
    "        except (ValueError):\n",
    "            print('Please use integers only.\\n')\n",
    "        except:\n",
    "            print('Unexpected Error: ' + sys.exc_info()[2] + '\\n')\n",
    "        "
   ]
  },
  {
   "cell_type": "code",
   "execution_count": 34,
   "metadata": {},
   "outputs": [
    {
     "name": "stdout",
     "output_type": "stream",
     "text": [
      "The dimensions of the layer: torch.Size([32, 512])\n",
      "Base: 32\n",
      "Height: 16\n"
     ]
    },
    {
     "name": "stderr",
     "output_type": "stream",
     "text": [
      "C:\\Users\\Andy Xie\\Anaconda3\\envs\\api-dev\\lib\\site-packages\\ipykernel_launcher.py:14: MatplotlibDeprecationWarning: Adding an axes using the same arguments as a previous axes currently reuses the earlier instance.  In a future version, a new instance will always be created and returned.  Meanwhile, this warning can be suppressed, and the future behavior ensured, by passing a unique label to each axes instance.\n",
      "  \n"
     ]
    },
    {
     "data": {
      "image/png": "[encoded data removed]",
      "text/plain": [
       "<Figure size 2304x1152 with 10 Axes>"
      ]
     },
     "metadata": {},
     "output_type": "display_data"
    }
   ],
   "source": [
    "layer_visuals(2,training_data_results,4)"
   ]
  },
  {
   "cell_type": "code",
   "execution_count": 10,
   "metadata": {},
   "outputs": [],
   "source": [
    "def layer_loss_analysis(layer_num,data_results,loss_func):\n",
    "    chosen_layer = data_results[0][layer_num]\n",
    "    print('The dimensions of the layer: ' + str(chosen_layer.shape) +'\\n')\n",
    "    try:\n",
    "        if len(chosen_layer.shape) == 2:\n",
    "            layer = torch.nn.functional.log_softmax(chosen_layer, dim=1)\n",
    "            loss = loss_func(layer, data_results[1])\n",
    "            print('Layer Number: {}, Loss: {:.6f}\\n'.format(layer_num, loss)) \n",
    "        else:\n",
    "            print('Invalid')\n",
    "    except:\n",
    "        print('There is a problem with the information you entered: ' + sys.exc_info()[2] + '\\n')"
   ]
  },
  {
   "cell_type": "code",
   "execution_count": 11,
   "metadata": {},
   "outputs": [
    {
     "name": "stdout",
     "output_type": "stream",
     "text": [
      "The dimensions of the layer: torch.Size([32, 512])\n",
      "\n",
      "Layer Number: 2, Loss: 6.762490\n",
      "\n"
     ]
    }
   ],
   "source": [
    "layer_loss_analysis(2,training_data_results,loss_function)"
   ]
  },
  {
   "cell_type": "code",
   "execution_count": 20,
   "metadata": {},
   "outputs": [],
   "source": [
    "classes = [0,1,2,3,4,5,6,7,8,9]\n",
    "\n",
    "def accuracy_individual_classes(network,classes,test_set):\n",
    "    try:\n",
    "        class_correct = list(0. for i in range(len(classes)))\n",
    "        class_total = list(0. for i in range(len(classes)))\n",
    "        for data in test_set:\n",
    "            images, labels = data\n",
    "            outputs = network(images)\n",
    "            _, predicted = torch.max(outputs[0], 1)\n",
    "            correct = (predicted == labels).squeeze()\n",
    "            for i in range(len(labels)):\n",
    "                label = labels[i]\n",
    "                class_correct[label] += correct[i].item()\n",
    "                class_total[label] += 1\n",
    "        for i in range(len(classes)):\n",
    "            print('Accuracy of %s : %2d%%  [%i/%i]' % (classes[i], 100 * class_correct[i] / class_total[i], class_correct[i], class_total[i]))\n",
    "    except:\n",
    "        print('There is an error: ' + sys.exc_info()[2] + '\\n' )"
   ]
  },
  {
   "cell_type": "code",
   "execution_count": 21,
   "metadata": {},
   "outputs": [
    {
     "name": "stdout",
     "output_type": "stream",
     "text": [
      "Accuracy of 0 : 96%  [949/980]\n",
      "Accuracy of 1 : 97%  [1105/1135]\n",
      "Accuracy of 2 : 78%  [812/1032]\n",
      "Accuracy of 3 : 84%  [850/1010]\n",
      "Accuracy of 4 : 85%  [844/982]\n",
      "Accuracy of 5 : 70%  [631/892]\n",
      "Accuracy of 6 : 92%  [889/958]\n",
      "Accuracy of 7 : 88%  [908/1028]\n",
      "Accuracy of 8 : 79%  [779/974]\n",
      "Accuracy of 9 : 78%  [788/1009]\n"
     ]
    }
   ],
   "source": [
    "accuracy_individual_classes(network,classes,test_loader)"
   ]
  },
  {
   "cell_type": "code",
   "execution_count": 22,
   "metadata": {},
   "outputs": [],
   "source": [
    "def saving_textfile(file,pandas_true,directory):\n",
    "    try:\n",
    "        if pandas_true == False:\n",
    "            f = open(directory,'w+')\n",
    "            for line in file:\n",
    "                f.writelines(str(list(line.numpy())))\n",
    "            f.close()\n",
    "        else:\n",
    "            file.to_csv(directory,'w+')\n",
    "    except:\n",
    "        print('There is an error: ' + sys.exc_info()[2] + '\\n' )"
   ]
  },
  {
   "cell_type": "code",
   "execution_count": 73,
   "metadata": {},
   "outputs": [],
   "source": [
    "def weights_biases(network):\n",
    "    parameters = {}\n",
    "    for i in network.named_parameters():\n",
    "        parameters[i[0]] = i[1] \n",
    "    specific_parameters = parameters.keys()\n",
    "    try:\n",
    "        while(True):\n",
    "            print('The weights and biases of these layers have been identified: \\n')\n",
    "            for j in specific_parameters:\n",
    "                print(j)\n",
    "            wanted_parameter = input('Please enter the wanted parameter or enter 0 to exit. Press E to export a specific parameter. \\n')\n",
    "            if wanted_parameter == '0':\n",
    "                break\n",
    "            elif wanted_parameter == 'E' or wanted_parameter == 'e':\n",
    "                wanted_parameter = input('Please enter the parameter to export: \\n')\n",
    "                data = parameters[str(wanted_parameter)].detach()\n",
    "                saving_textfile(data,False)\n",
    "                break\n",
    "            elif wanted_parameter[-4:] == 'bias':\n",
    "                print('There are %i biases in this layer. \\n' % parameters[wanted_parameter].shape)\n",
    "                while(True):\n",
    "                    ith_bias_ith_layer, end = input('Enter the bias range. Enter 0 x to exit: \\n').split()\n",
    "                    if end == 'x':\n",
    "                        break\n",
    "                    else:\n",
    "                        print('\\n')\n",
    "                        print(parameters[wanted_parameter][int(ith_bias_ith_layer):int(end)].detach())\n",
    "                        print('\\n')\n",
    "            else:\n",
    "                print('\\n')\n",
    "                print('There are %d nodes and %d weights from each node. \\n' % (parameters[wanted_parameter].shape[0], parameters[wanted_parameter].shape[1]))\n",
    "                while(True):\n",
    "                    ith_node, ith_weight_ith_node = input('Enter the node number and input weights. Enter 0 x to exit: \\n').split()\n",
    "                    if ith_weight_ith_node == 'x':\n",
    "                        break\n",
    "                    else:\n",
    "                        print('\\n')\n",
    "                        print(parameters[wanted_parameter][int(ith_node)][int(ith_weight_ith_node):int(end)].detach())\n",
    "                        print('\\n')\n",
    "        print('Closed.')\n",
    "    except:\n",
    "        print('You entered an invalid input. Please try again.\\n')\n",
    "       "
   ]
  },
  {
   "cell_type": "code",
   "execution_count": 74,
   "metadata": {},
   "outputs": [
    {
     "name": "stdout",
     "output_type": "stream",
     "text": [
      "The weights and biases of these layers have been identified: \n",
      "\n",
      "hidden_layerin.0.weight\n",
      "hidden_layerin.0.bias\n",
      "hidden_layer1.0.weight\n",
      "hidden_layer1.0.bias\n",
      "hidden_layer2.0.weight\n",
      "hidden_layer2.0.bias\n",
      "hidden_layer3.0.weight\n",
      "hidden_layer3.0.bias\n",
      "layer_out.weight\n",
      "layer_out.bias\n",
      "Please enter the wanted parameter or enter 0 to exit. Press E to export a specific parameter. \n",
      "hidden_layerin.0.weight\n",
      "\n",
      "\n",
      "There are 1024 nodes and 784 weights from each node. \n",
      "\n",
      "Enter the node number and input weights. Enter 0 x to exit: \n",
      "0 x\n",
      "The weights and biases of these layers have been identified: \n",
      "\n",
      "hidden_layerin.0.weight\n",
      "hidden_layerin.0.bias\n",
      "hidden_layer1.0.weight\n",
      "hidden_layer1.0.bias\n",
      "hidden_layer2.0.weight\n",
      "hidden_layer2.0.bias\n",
      "hidden_layer3.0.weight\n",
      "hidden_layer3.0.bias\n",
      "layer_out.weight\n",
      "layer_out.bias\n",
      "Please enter the wanted parameter or enter 0 to exit. Press E to export a specific parameter. \n",
      "0\n",
      "Closed.\n"
     ]
    }
   ],
   "source": [
    "weights_biases(network)"
   ]
  },
  {
   "cell_type": "code",
   "execution_count": null,
   "metadata": {},
   "outputs": [],
   "source": [
    "def save_NN(network,method,directory_network,directory_method):\n",
    "    torch.save(network.state_dict(), directory_network)\n",
    "    torch.save(method.state_dict(), directory_method)\n",
    "    \n",
    "def load_NN(network,method,directory_network,directory_method):\n",
    "    network.load_state_dict(torch.load(directory_network))\n",
    "    method.load_state_dict(torch.load(directory_network))\n",
    "    "
   ]
  }
 ],
 "metadata": {
  "kernelspec": {
   "display_name": "Python 3",
   "language": "python",
   "name": "python3"
  },
  "language_info": {
   "codemirror_mode": {
    "name": "ipython",
    "version": 3
   },
   "file_extension": ".py",
   "mimetype": "text/x-python",
   "name": "python",
   "nbconvert_exporter": "python",
   "pygments_lexer": "ipython3",
   "version": "3.7.3"
  }
 },
 "nbformat": 4,
 "nbformat_minor": 2
}
