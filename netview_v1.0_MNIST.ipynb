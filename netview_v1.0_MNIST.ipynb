{
 "cells": [
  {
   "cell_type": "code",
   "execution_count": 1,
   "metadata": {},
   "outputs": [],
   "source": [
    "import numpy as np\n",
    "import torch\n",
    "import torchvision as tvn\n",
    "import matplotlib.pyplot as plt\n",
    "import sklearn.metrics as skm"
   ]
  },
  {
   "cell_type": "code",
   "execution_count": 2,
   "metadata": {},
   "outputs": [],
   "source": [
    "nn_params = {'nodes_layer_0': 1024,        \n",
    "             'nodes_layer_1': 512,  \n",
    "             'nodes_layer_2': 256,\n",
    "             'nodes_layer_3': 128\n",
    "             }\n",
    "\n",
    "prop_params = {'ReLU_1': 0.2,               \n",
    "               'ReLU_2': 0.2,\n",
    "               'ReLU_3': 0.2,\n",
    "               'ReLU_4': 0.2,\n",
    "               'Drop_1': 0.25,\n",
    "               'Drop_2': 0.25,\n",
    "               'Drop_3': 0.25,\n",
    "               'Drop_4': 0.25\n",
    "               }\n",
    "\n",
    "training_conditions = {'n_epochs': 1,                  \n",
    "                       'batch_size_train': 64,\n",
    "                       'batch_size_test': 1000,\n",
    "                       'learning_rate': 0.01,\n",
    "                       'momentum': 0.05,\n",
    "                       'log_interval': 10,\n",
    "                       'rdm_seed': 1\n",
    "                       }"
   ]
  },
  {
   "cell_type": "code",
   "execution_count": 3,
   "metadata": {},
   "outputs": [
    {
     "data": {
      "text/plain": [
       "<torch._C.Generator at 0x27b85dddbd0>"
      ]
     },
     "execution_count": 3,
     "metadata": {},
     "output_type": "execute_result"
    }
   ],
   "source": [
    "torch.manual_seed(training_conditions['rdm_seed'])"
   ]
  },
  {
   "cell_type": "code",
   "execution_count": 4,
   "metadata": {},
   "outputs": [],
   "source": [
    "train_loader = torch.utils.data.DataLoader(tvn.datasets.MNIST('/files/', train = True, download = True,\n",
    "                                                            transform = tvn.transforms.Compose([tvn.transforms.ToTensor(),\n",
    "                                                            tvn.transforms.Normalize((0.1307,), (0.3081,))])),batch_size=training_conditions['batch_size_train'], shuffle=True)\n",
    "\n",
    "test_loader = torch.utils.data.DataLoader(tvn.datasets.MNIST('/files/', train = False, download = True,\n",
    "                                                            transform = tvn.transforms.Compose([tvn.transforms.ToTensor(),\n",
    "                                                            tvn.transforms.Normalize((0.1307,), (0.3081,))])),batch_size=training_conditions['batch_size_test'], shuffle=True)"
   ]
  },
  {
   "cell_type": "code",
   "execution_count": 6,
   "metadata": {},
   "outputs": [
    {
     "data": {
      "image/png": "[encoded data removed]",
      "text/plain": [
       "<Figure size 432x288 with 25 Axes>"
      ]
     },
     "metadata": {
      "needs_background": "light"
     },
     "output_type": "display_data"
    }
   ],
   "source": [
    "example_group = enumerate(test_loader)\n",
    "group_index, (group_data, group_truths) = next(example_group)\n",
    "\n",
    "fig = plt.figure()\n",
    "for i in range(0,25):\n",
    "    plt.subplot(5,5,i + 1)\n",
    "    plt.imshow(group_data[i][0], cmap = 'gray', interpolation = 'none')\n",
    "plt.show()"
   ]
  },
  {
   "cell_type": "code",
   "execution_count": 7,
   "metadata": {},
   "outputs": [],
   "source": [
    "class NN(torch.nn.Module):\n",
    "    def __init__(self,nn_params, prop_params):\n",
    "        super(NN, self).__init__()\n",
    "        initial_features = 784\n",
    "        final_features = 10\n",
    "        self.hidden_layerin = torch.nn.Sequential(torch.nn.Linear(initial_features,nn_params['nodes_layer_0']),torch.nn.LeakyReLU(prop_params['ReLU_1']),torch.nn.Dropout(prop_params['Drop_1']))\n",
    "        self.hidden_layer1 = torch.nn.Sequential(torch.nn.Linear(nn_params['nodes_layer_0'],nn_params['nodes_layer_1']),torch.nn.LeakyReLU(prop_params['ReLU_2']),torch.nn.Dropout(prop_params['Drop_2']))\n",
    "        self.hidden_layer2 = torch.nn.Sequential(torch.nn.Linear(nn_params['nodes_layer_1'],nn_params['nodes_layer_2']),torch.nn.LeakyReLU(prop_params['ReLU_3']),torch.nn.Dropout(prop_params['Drop_3']))\n",
    "        self.hidden_layer3 = torch.nn.Sequential(torch.nn.Linear(nn_params['nodes_layer_2'],nn_params['nodes_layer_3']),torch.nn.LeakyReLU(prop_params['ReLU_4']),torch.nn.Dropout(prop_params['Drop_4']))\n",
    "        self.layer_out = torch.nn.Linear(nn_params['nodes_layer_3'],final_features)\n",
    "\n",
    "    def forward(self, x):\n",
    "        x = x.view(-1,784)\n",
    "        x_in = self.hidden_layerin(x)\n",
    "        x_1 = self.hidden_layer1(x_in)\n",
    "        x_2 = self.hidden_layer2(x_1)\n",
    "        x_3 = self.hidden_layer3(x_2)\n",
    "        x_4 = self.layer_out(x_3)\n",
    "        x_out = torch.nn.functional.log_softmax(x_4,dim=1)\n",
    "        return [x_out,x_in,x_1,x_2,x_3]\n",
    "\n",
    "network = NN(nn_params, prop_params)"
   ]
  },
  {
   "cell_type": "code",
   "execution_count": 10,
   "metadata": {},
   "outputs": [],
   "source": [
    "optimizer = torch.optim.SGD(network.parameters(), lr= training_conditions['learning_rate'],momentum= training_conditions['momentum'])\n",
    "loss_function = torch.nn.functional.nll_loss\n",
    "\n",
    "def train(train_set,loss_func,method,log_interval,epochs):\n",
    "    network.train() \n",
    "    for index, (data, truth) in enumerate(train_set):\n",
    "        method.zero_grad()\n",
    "        output = network(data) \n",
    "        loss = loss_func(output[0], truth)\n",
    "        loss.backward()\n",
    "        method.step()\n",
    "        if index % log_interval == 0:\n",
    "            print('Train Epoch: {} [{}/{} ({:.0f}%)]\\tLoss: {:.6f}'.format(epochs, index * len(data), len(train_set.dataset),\n",
    "                                                                    100. * index / len(train_set), loss.item()))\n",
    "    return [output,truth,'training']\n",
    "\n",
    "\n",
    "def test(test_set,loss_func):\n",
    "    test_losses = []\n",
    "    network.eval()\n",
    "    total_test_loss = 0\n",
    "    total_correct = 0\n",
    "    with torch.no_grad():\n",
    "        for index, (data, truth) in enumerate(test_set):\n",
    "            output = network(data)\n",
    "            test_loss = loss_func(output[0], truth, size_average = False)\n",
    "            total_test_loss += test_loss.item()\n",
    "            pred = output[0].data.max(1, keepdim = True)[1]\n",
    "            total_correct += pred.eq(truth.data.view_as(pred)).sum()\n",
    "    avg_test_loss = total_test_loss / len(test_set.dataset)\n",
    "    test_losses.append(test_loss)\n",
    "    print('\\nTest set: Avg. loss: {:.4f}, Accuracy: {}/{} ({:.0f}%)\\n'.format(avg_test_loss, total_correct, len(test_set.dataset),\n",
    "            100. * total_correct / len(test_set.dataset)))\n",
    "    return [output, truth,'testing']"
   ]
  },
  {
   "cell_type": "code",
   "execution_count": 11,
   "metadata": {},
   "outputs": [
    {
     "name": "stderr",
     "output_type": "stream",
     "text": [
      "C:\\Users\\Andy Xie\\Anaconda3\\envs\\api-dev\\lib\\site-packages\\torch\\nn\\_reduction.py:46: UserWarning: size_average and reduce args will be deprecated, please use reduction='sum' instead.\n",
      "  warnings.warn(warning.format(ret))\n"
     ]
    },
    {
     "name": "stdout",
     "output_type": "stream",
     "text": [
      "\n",
      "Test set: Avg. loss: 2.3022, Accuracy: 1027/10000 (10%)\n",
      "\n",
      "Train Epoch: 1 [0/60000 (0%)]\tLoss: 2.305888\n",
      "Train Epoch: 1 [640/60000 (1%)]\tLoss: 2.300384\n",
      "Train Epoch: 1 [1280/60000 (2%)]\tLoss: 2.313107\n",
      "Train Epoch: 1 [1920/60000 (3%)]\tLoss: 2.294436\n",
      "Train Epoch: 1 [2560/60000 (4%)]\tLoss: 2.291478\n",
      "Train Epoch: 1 [3200/60000 (5%)]\tLoss: 2.297289\n",
      "Train Epoch: 1 [3840/60000 (6%)]\tLoss: 2.288724\n",
      "Train Epoch: 1 [4480/60000 (7%)]\tLoss: 2.289662\n",
      "Train Epoch: 1 [5120/60000 (9%)]\tLoss: 2.281204\n",
      "Train Epoch: 1 [5760/60000 (10%)]\tLoss: 2.294892\n",
      "Train Epoch: 1 [6400/60000 (11%)]\tLoss: 2.285150\n",
      "Train Epoch: 1 [7040/60000 (12%)]\tLoss: 2.276313\n",
      "Train Epoch: 1 [7680/60000 (13%)]\tLoss: 2.277714\n",
      "Train Epoch: 1 [8320/60000 (14%)]\tLoss: 2.265767\n",
      "Train Epoch: 1 [8960/60000 (15%)]\tLoss: 2.265119\n",
      "Train Epoch: 1 [9600/60000 (16%)]\tLoss: 2.292003\n",
      "Train Epoch: 1 [10240/60000 (17%)]\tLoss: 2.282774\n",
      "Train Epoch: 1 [10880/60000 (18%)]\tLoss: 2.270091\n",
      "Train Epoch: 1 [11520/60000 (19%)]\tLoss: 2.268430\n",
      "Train Epoch: 1 [12160/60000 (20%)]\tLoss: 2.271500\n",
      "Train Epoch: 1 [12800/60000 (21%)]\tLoss: 2.261902\n",
      "Train Epoch: 1 [13440/60000 (22%)]\tLoss: 2.260358\n",
      "Train Epoch: 1 [14080/60000 (23%)]\tLoss: 2.255186\n",
      "Train Epoch: 1 [14720/60000 (25%)]\tLoss: 2.265157\n",
      "Train Epoch: 1 [15360/60000 (26%)]\tLoss: 2.251688\n",
      "Train Epoch: 1 [16000/60000 (27%)]\tLoss: 2.242784\n",
      "Train Epoch: 1 [16640/60000 (28%)]\tLoss: 2.224132\n",
      "Train Epoch: 1 [17280/60000 (29%)]\tLoss: 2.253395\n",
      "Train Epoch: 1 [17920/60000 (30%)]\tLoss: 2.251429\n",
      "Train Epoch: 1 [18560/60000 (31%)]\tLoss: 2.199895\n",
      "Train Epoch: 1 [19200/60000 (32%)]\tLoss: 2.238066\n",
      "Train Epoch: 1 [19840/60000 (33%)]\tLoss: 2.222095\n",
      "Train Epoch: 1 [20480/60000 (34%)]\tLoss: 2.156092\n",
      "Train Epoch: 1 [21120/60000 (35%)]\tLoss: 2.189249\n",
      "Train Epoch: 1 [21760/60000 (36%)]\tLoss: 2.170317\n",
      "Train Epoch: 1 [22400/60000 (37%)]\tLoss: 2.168949\n",
      "Train Epoch: 1 [23040/60000 (38%)]\tLoss: 2.146348\n",
      "Train Epoch: 1 [23680/60000 (39%)]\tLoss: 2.126235\n",
      "Train Epoch: 1 [24320/60000 (41%)]\tLoss: 2.140559\n",
      "Train Epoch: 1 [24960/60000 (42%)]\tLoss: 2.111923\n",
      "Train Epoch: 1 [25600/60000 (43%)]\tLoss: 2.071990\n",
      "Train Epoch: 1 [26240/60000 (44%)]\tLoss: 2.057121\n",
      "Train Epoch: 1 [26880/60000 (45%)]\tLoss: 2.050278\n",
      "Train Epoch: 1 [27520/60000 (46%)]\tLoss: 2.055360\n",
      "Train Epoch: 1 [28160/60000 (47%)]\tLoss: 2.003762\n",
      "Train Epoch: 1 [28800/60000 (48%)]\tLoss: 1.987393\n",
      "Train Epoch: 1 [29440/60000 (49%)]\tLoss: 2.009853\n",
      "Train Epoch: 1 [30080/60000 (50%)]\tLoss: 1.890497\n",
      "Train Epoch: 1 [30720/60000 (51%)]\tLoss: 1.826124\n",
      "Train Epoch: 1 [31360/60000 (52%)]\tLoss: 1.806464\n",
      "Train Epoch: 1 [32000/60000 (53%)]\tLoss: 1.734687\n",
      "Train Epoch: 1 [32640/60000 (54%)]\tLoss: 1.691259\n",
      "Train Epoch: 1 [33280/60000 (55%)]\tLoss: 1.617884\n",
      "Train Epoch: 1 [33920/60000 (57%)]\tLoss: 1.489581\n",
      "Train Epoch: 1 [34560/60000 (58%)]\tLoss: 1.434179\n",
      "Train Epoch: 1 [35200/60000 (59%)]\tLoss: 1.586123\n",
      "Train Epoch: 1 [35840/60000 (60%)]\tLoss: 1.505378\n",
      "Train Epoch: 1 [36480/60000 (61%)]\tLoss: 1.408393\n",
      "Train Epoch: 1 [37120/60000 (62%)]\tLoss: 1.367569\n",
      "Train Epoch: 1 [37760/60000 (63%)]\tLoss: 1.297599\n",
      "Train Epoch: 1 [38400/60000 (64%)]\tLoss: 1.200648\n",
      "Train Epoch: 1 [39040/60000 (65%)]\tLoss: 1.270094\n",
      "Train Epoch: 1 [39680/60000 (66%)]\tLoss: 1.241352\n",
      "Train Epoch: 1 [40320/60000 (67%)]\tLoss: 1.210378\n",
      "Train Epoch: 1 [40960/60000 (68%)]\tLoss: 1.129842\n",
      "Train Epoch: 1 [41600/60000 (69%)]\tLoss: 1.178886\n",
      "Train Epoch: 1 [42240/60000 (70%)]\tLoss: 0.863305\n",
      "Train Epoch: 1 [42880/60000 (71%)]\tLoss: 0.885434\n",
      "Train Epoch: 1 [43520/60000 (72%)]\tLoss: 1.159898\n",
      "Train Epoch: 1 [44160/60000 (74%)]\tLoss: 0.955665\n",
      "Train Epoch: 1 [44800/60000 (75%)]\tLoss: 0.924157\n",
      "Train Epoch: 1 [45440/60000 (76%)]\tLoss: 0.885493\n",
      "Train Epoch: 1 [46080/60000 (77%)]\tLoss: 0.947690\n",
      "Train Epoch: 1 [46720/60000 (78%)]\tLoss: 1.021279\n",
      "Train Epoch: 1 [47360/60000 (79%)]\tLoss: 0.903631\n",
      "Train Epoch: 1 [48000/60000 (80%)]\tLoss: 0.848462\n",
      "Train Epoch: 1 [48640/60000 (81%)]\tLoss: 1.027745\n",
      "Train Epoch: 1 [49280/60000 (82%)]\tLoss: 0.792954\n",
      "Train Epoch: 1 [49920/60000 (83%)]\tLoss: 0.658262\n",
      "Train Epoch: 1 [50560/60000 (84%)]\tLoss: 0.882586\n",
      "Train Epoch: 1 [51200/60000 (85%)]\tLoss: 0.745439\n",
      "Train Epoch: 1 [51840/60000 (86%)]\tLoss: 0.656277\n",
      "Train Epoch: 1 [52480/60000 (87%)]\tLoss: 0.734682\n",
      "Train Epoch: 1 [53120/60000 (88%)]\tLoss: 0.833158\n",
      "Train Epoch: 1 [53760/60000 (90%)]\tLoss: 0.754206\n",
      "Train Epoch: 1 [54400/60000 (91%)]\tLoss: 0.802311\n",
      "Train Epoch: 1 [55040/60000 (92%)]\tLoss: 0.826928\n",
      "Train Epoch: 1 [55680/60000 (93%)]\tLoss: 0.693787\n",
      "Train Epoch: 1 [56320/60000 (94%)]\tLoss: 0.831422\n",
      "Train Epoch: 1 [56960/60000 (95%)]\tLoss: 0.782800\n",
      "Train Epoch: 1 [57600/60000 (96%)]\tLoss: 0.876922\n",
      "Train Epoch: 1 [58240/60000 (97%)]\tLoss: 0.897266\n",
      "Train Epoch: 1 [58880/60000 (98%)]\tLoss: 0.615973\n",
      "Train Epoch: 1 [59520/60000 (99%)]\tLoss: 0.936472\n",
      "\n",
      "Test set: Avg. loss: 0.5583, Accuracy: 8382/10000 (83%)\n",
      "\n"
     ]
    }
   ],
   "source": [
    "train_losses = []\n",
    "train_counter = []\n",
    "test_losses = []\n",
    "test_counter = [i*len(train_loader.dataset) for i in range(training_conditions['n_epochs'] + 1)]\n",
    "\n",
    "test(test_loader,loss_function)\n",
    "for epoch in range(1, training_conditions['n_epochs'] + 1): \n",
    "    training_data_results = train(train_loader,loss_function,optimizer,training_conditions['log_interval'],1)\n",
    "    testing_data_results = test(test_loader,loss_function)"
   ]
  },
  {
   "cell_type": "code",
   "execution_count": 12,
   "metadata": {},
   "outputs": [],
   "source": [
    "def layer_visuals(layer_num,data_results,ith):\n",
    "    if data_results[2] == 'training':\n",
    "        chosen_layer = data_results[0][layer_num]\n",
    "        print(chosen_layer.shape)\n",
    "        base = input('Base: \\n')\n",
    "        height = input('Height: \\n')\n",
    "        fig = plt.figure(figsize=(10,2))\n",
    "        for i in range(ith,ith+5):\n",
    "            image = chosen_layer[i].view(int(height),int(base))\n",
    "            for j in range(5):\n",
    "                plt.subplot(1,5,j + 1)\n",
    "                plt.imshow(image.detach(), cmap = 'gray', interpolation = 'none')\n",
    "                plt.xticks([])\n",
    "                plt.yticks([])\n",
    "        plt.show()\n",
    "    elif data_results[2] == 'testing':\n",
    "        chosen_layer = data_results[0][layer_num]\n",
    "        print(chosen_layer.shape)\n",
    "        base = input('Base: \\n')\n",
    "        height = input('Height: \\n')\n",
    "        fig = plt.figure(figsize=(10,2))\n",
    "        for i in range(ith,ith+5):\n",
    "            image = chosen_layer[i].view(int(height),int(base))\n",
    "            for j in range(5):\n",
    "                plt.subplot(1,5,j + 1)\n",
    "                plt.imshow(image.detach(), cmap = 'gray', interpolation = 'none')\n",
    "                plt.xticks([])\n",
    "                plt.yticks([])\n",
    "        plt.show()"
   ]
  },
  {
   "cell_type": "code",
   "execution_count": 14,
   "metadata": {},
   "outputs": [
    {
     "name": "stdout",
     "output_type": "stream",
     "text": [
      "torch.Size([32, 512])\n",
      "Base: \n",
      "32\n",
      "Height: \n",
      "16\n"
     ]
    },
    {
     "name": "stderr",
     "output_type": "stream",
     "text": [
      "C:\\Users\\Andy Xie\\Anaconda3\\envs\\api-dev\\lib\\site-packages\\ipykernel_launcher.py:11: MatplotlibDeprecationWarning: Adding an axes using the same arguments as a previous axes currently reuses the earlier instance.  In a future version, a new instance will always be created and returned.  Meanwhile, this warning can be suppressed, and the future behavior ensured, by passing a unique label to each axes instance.\n",
      "  # This is added back by InteractiveShellApp.init_path()\n"
     ]
    },
    {
     "data": {
      "image/png": "[encoded data removed]",
      "text/plain": [
       "<Figure size 720x144 with 5 Axes>"
      ]
     },
     "metadata": {},
     "output_type": "display_data"
    }
   ],
   "source": [
    "layer_visuals(2,training_data_results,4)"
   ]
  },
  {
   "cell_type": "code",
   "execution_count": 15,
   "metadata": {},
   "outputs": [
    {
     "name": "stdout",
     "output_type": "stream",
     "text": [
      "torch.Size([1000, 256])\n",
      "Base: \n",
      "16\n",
      "Height: \n",
      "16\n"
     ]
    },
    {
     "name": "stderr",
     "output_type": "stream",
     "text": [
      "C:\\Users\\Andy Xie\\Anaconda3\\envs\\api-dev\\lib\\site-packages\\ipykernel_launcher.py:25: MatplotlibDeprecationWarning: Adding an axes using the same arguments as a previous axes currently reuses the earlier instance.  In a future version, a new instance will always be created and returned.  Meanwhile, this warning can be suppressed, and the future behavior ensured, by passing a unique label to each axes instance.\n"
     ]
    },
    {
     "data": {
      "image/png": "[encoded data removed]",
      "text/plain": [
       "<Figure size 720x144 with 5 Axes>"
      ]
     },
     "metadata": {},
     "output_type": "display_data"
    }
   ],
   "source": [
    "layer_visuals(3,testing_data_results,2)"
   ]
  },
  {
   "cell_type": "code",
   "execution_count": 17,
   "metadata": {},
   "outputs": [],
   "source": [
    "def layer_loss_analysis(layer_num,data_results,loss_func):\n",
    "    if data_results[2] == 'training':\n",
    "        chosen_layer = data_results[0][layer_num]\n",
    "        print(chosen_layer.shape)\n",
    "        if len(chosen_layer.shape) == 2:\n",
    "            layer = torch.nn.functional.log_softmax(chosen_layer, dim=1)\n",
    "            loss = loss_func(layer, data_results[1])\n",
    "            print('Layer Number: {}, Loss: {:.6f}\\n'.format(layer_num, loss)) \n",
    "        else:\n",
    "            print('Invalid')\n",
    "    if data_results[2] == 'testing':\n",
    "        chosen_layer = data_results[0][layer_num]\n",
    "        print(chosen_layer.shape)\n",
    "        if len(chosen_layer.shape) == 2:\n",
    "            layer = torch.nn.functional.log_softmax(chosen_layer, dim=1)\n",
    "            loss = loss_func(layer, data_results[1])\n",
    "            print('Layer Number: {}, Loss: {:.6f}\\n'.format(layer_num, loss))\n",
    "        else:\n",
    "            print('Invalid')"
   ]
  },
  {
   "cell_type": "code",
   "execution_count": 18,
   "metadata": {},
   "outputs": [
    {
     "name": "stdout",
     "output_type": "stream",
     "text": [
      "torch.Size([32, 512])\n",
      "Layer Number: 2, Loss: 6.504313\n",
      "\n"
     ]
    }
   ],
   "source": [
    "layer_loss_analysis(2,training_data_results,loss_function)"
   ]
  },
  {
   "cell_type": "code",
   "execution_count": 20,
   "metadata": {},
   "outputs": [
    {
     "name": "stdout",
     "output_type": "stream",
     "text": [
      "torch.Size([1000, 10])\n",
      "Layer Number: 0, Loss: 0.551559\n",
      "\n"
     ]
    }
   ],
   "source": [
    "layer_loss_analysis(0,testing_data_results,loss_function)"
   ]
  },
  {
   "cell_type": "code",
   "execution_count": 21,
   "metadata": {},
   "outputs": [],
   "source": [
    "classes = [0,1,2,3,4,5,6,7,8,9]\n",
    "\n",
    "def accuracy_individual_classes(classes,test_set):\n",
    "    class_correct = list(0. for i in range(len(classes)))\n",
    "    class_total = list(0. for i in range(len(classes)))\n",
    "    for data in test_set:\n",
    "        images, labels = data\n",
    "        outputs = network(images)\n",
    "        _, predicted = torch.max(outputs[0], 1)\n",
    "        correct = (predicted == labels).squeeze()\n",
    "        for i in range(len(labels)):\n",
    "            label = labels[i]\n",
    "            class_correct[label] += correct[i].item()\n",
    "            class_total[label] += 1\n",
    "    for i in range(len(classes)):\n",
    "        print('Accuracy of %s : %2d %%' % (classes[i], 100 * class_correct[i] / class_total[i]))"
   ]
  },
  {
   "cell_type": "code",
   "execution_count": 22,
   "metadata": {},
   "outputs": [
    {
     "name": "stdout",
     "output_type": "stream",
     "text": [
      "Accuracy of 0 : 96 %\n",
      "Accuracy of 1 : 98 %\n",
      "Accuracy of 2 : 79 %\n",
      "Accuracy of 3 : 87 %\n",
      "Accuracy of 4 : 84 %\n",
      "Accuracy of 5 : 62 %\n",
      "Accuracy of 6 : 93 %\n",
      "Accuracy of 7 : 88 %\n",
      "Accuracy of 8 : 76 %\n",
      "Accuracy of 9 : 66 %\n"
     ]
    }
   ],
   "source": [
    "accuracy_individual_classes(classes,test_loader)"
   ]
  },
  {
   "cell_type": "code",
   "execution_count": 30,
   "metadata": {},
   "outputs": [],
   "source": [
    "def saving_textfile(file,pandas_true):\n",
    "    filename = input('Enter filename: \\n')\n",
    "    directory = input('Enter a directory: \\n')\n",
    "    if pandas_true == False:\n",
    "        f = open(str(directory)+'\\\\'+str(filename),'w+')\n",
    "        for line in file:\n",
    "            f.writelines(str(list(line.numpy())))\n",
    "        f.close()\n",
    "    else:\n",
    "        file.to_csv(str(directory)+'\\\\'+str(filename),'w+')"
   ]
  },
  {
   "cell_type": "code",
   "execution_count": 24,
   "metadata": {},
   "outputs": [],
   "source": [
    "def weights_biases():\n",
    "    parameters = {}\n",
    "    for i in network.named_parameters():\n",
    "        parameters[i[0]] = i[1] \n",
    "    specific_parameters = parameters.keys()\n",
    "    while(True):\n",
    "        print('The weights and biases of these layers have been identified: \\n')\n",
    "        for j in specific_parameters:\n",
    "            print(j)\n",
    "        print('\\n')\n",
    "        wanted_parameter = input('Please enter the wanted parameter or enter 0 to exit. Press E to export a specific parameter. \\n')\n",
    "        print('\\n')\n",
    "        if wanted_parameter == '0':\n",
    "            break\n",
    "        elif wanted_parameter == 'E' or wanted_parameter == 'e':\n",
    "            wanted_parameter = input('Please enter the parameter to export: \\n')\n",
    "            data = parameters[str(wanted_parameter)].detach()\n",
    "            saving_textfile(data,False)\n",
    "            break\n",
    "        elif wanted_parameter[-4:] == 'bias':\n",
    "            while(True):\n",
    "                ith_bias_ith_layer, end = input('Enter the bias range: \\n').split()\n",
    "                if end == 'x':\n",
    "                    break\n",
    "                else:\n",
    "                    print('\\n')\n",
    "                    print(parameters[wanted_parameter][int(ith_bias_ith_layer):int(end)].detach())\n",
    "                    print('\\n')\n",
    "        else:\n",
    "            ith_node = input('Enter the node number: \\n')\n",
    "            while(True):\n",
    "                ith_weight_ith_node, end = input('Enter the input weights: \\n').split()\n",
    "                if end == 'x':\n",
    "                    break\n",
    "                else:\n",
    "                    print('\\n')\n",
    "                    print(parameters[wanted_parameter][int(ith_node)][int(ith_weight_ith_node):int(end)].detach())\n",
    "                    print('\\n')\n",
    "    print('Closed.')"
   ]
  },
  {
   "cell_type": "code",
   "execution_count": 25,
   "metadata": {},
   "outputs": [
    {
     "name": "stdout",
     "output_type": "stream",
     "text": [
      "The weights and biases of these layers have been identified: \n",
      "\n",
      "hidden_layerin.0.weight\n",
      "hidden_layerin.0.bias\n",
      "hidden_layer1.0.weight\n",
      "hidden_layer1.0.bias\n",
      "hidden_layer2.0.weight\n",
      "hidden_layer2.0.bias\n",
      "hidden_layer3.0.weight\n",
      "hidden_layer3.0.bias\n",
      "layer_out.weight\n",
      "layer_out.bias\n",
      "\n",
      "\n",
      "Please enter the wanted parameter or enter 0 to exit. Press E to export a specific parameter. \n",
      "hidden_layer1.0.weight\n",
      "\n",
      "\n",
      "Enter the node number: \n",
      "2\n",
      "Enter the input weights: \n",
      "34 45\n",
      "\n",
      "\n",
      "tensor([ 0.0110, -0.0103,  0.0208, -0.0278, -0.0184,  0.0126, -0.0118, -0.0112,\n",
      "         0.0273, -0.0101,  0.0133])\n",
      "\n",
      "\n",
      "Enter the input weights: \n",
      "1 12\n",
      "\n",
      "\n",
      "tensor([-0.0131, -0.0103,  0.0183, -0.0131, -0.0302,  0.0181, -0.0213,  0.0235,\n",
      "         0.0189,  0.0217,  0.0297])\n",
      "\n",
      "\n",
      "Enter the input weights: \n",
      "0 x\n",
      "The weights and biases of these layers have been identified: \n",
      "\n",
      "hidden_layerin.0.weight\n",
      "hidden_layerin.0.bias\n",
      "hidden_layer1.0.weight\n",
      "hidden_layer1.0.bias\n",
      "hidden_layer2.0.weight\n",
      "hidden_layer2.0.bias\n",
      "hidden_layer3.0.weight\n",
      "hidden_layer3.0.bias\n",
      "layer_out.weight\n",
      "layer_out.bias\n",
      "\n",
      "\n",
      "Please enter the wanted parameter or enter 0 to exit. Press E to export a specific parameter. \n",
      "0\n",
      "\n",
      "\n",
      "Closed.\n"
     ]
    }
   ],
   "source": [
    "weights_biases()"
   ]
  },
  {
   "cell_type": "code",
   "execution_count": null,
   "metadata": {},
   "outputs": [],
   "source": []
  }
 ],
 "metadata": {
  "kernelspec": {
   "display_name": "Python 3",
   "language": "python",
   "name": "python3"
  },
  "language_info": {
   "codemirror_mode": {
    "name": "ipython",
    "version": 3
   },
   "file_extension": ".py",
   "mimetype": "text/x-python",
   "name": "python",
   "nbconvert_exporter": "python",
   "pygments_lexer": "ipython3",
   "version": "3.7.3"
  }
 },
 "nbformat": 4,
 "nbformat_minor": 2
}
